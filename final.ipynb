{
 "metadata": {
  "language_info": {
   "codemirror_mode": {
    "name": "ipython",
    "version": 3
   },
   "file_extension": ".py",
   "mimetype": "text/x-python",
   "name": "python",
   "nbconvert_exporter": "python",
   "pygments_lexer": "ipython3",
   "version": "3.9.0-final"
  },
  "orig_nbformat": 2,
  "kernelspec": {
   "name": "python3",
   "display_name": "Python 3",
   "language": "python"
  }
 },
 "nbformat": 4,
 "nbformat_minor": 2,
 "cells": [
  {
   "cell_type": "code",
   "execution_count": 2,
   "metadata": {},
   "outputs": [],
   "source": [
    "import pandas as pd\n",
    "import numpy as np\n",
    "from matplotlib import pyplot as plt\n",
    "import sklearn"
   ]
  },
  {
   "cell_type": "code",
   "execution_count": 12,
   "metadata": {},
   "outputs": [],
   "source": [
    "data = []\n",
    "years = [2015, 2016, 2017, 2018, 2019]\n",
    "data_2015 = pd.read_csv(f\"WorldHappiness/2015.csv\", sep=\",\")\n",
    "data_2015.insert(0, \"year\", 2015, True)\n",
    "data_2016 = pd.read_csv(f\"WorldHappiness/2016.csv\", sep=\",\")\n",
    "data_2016.insert(0, \"year\", 2016, True)\n",
    "data_2017 = pd.read_csv(f\"WorldHappiness/2017.csv\", sep=\",\")\n",
    "data_2017.insert(0, \"year\", 2017, True)\n",
    "data_2018 = pd.read_csv(f\"WorldHappiness/2018.csv\", sep=\",\")\n",
    "data_2018.insert(0, \"year\", 2018, True)\n",
    "data_2019 = pd.read_csv(f\"WorldHappiness/2019.csv\", sep=\",\")\n",
    "data_2019.insert(0, \"year\", 2019, True)"
   ]
  },
  {
   "cell_type": "code",
   "execution_count": 13,
   "metadata": {},
   "outputs": [
    {
     "output_type": "stream",
     "name": "stdout",
     "text": [
      "2015 Headers:  ['year' 'Country' 'Region' 'Happiness Rank' 'Happiness Score'\n 'Standard Error' 'Economy (GDP per Capita)' 'Family'\n 'Health (Life Expectancy)' 'Freedom' 'Trust (Government Corruption)'\n 'Generosity' 'Dystopia Residual']\n2016 Headers:  ['year' 'Country' 'Region' 'Happiness Rank' 'Happiness Score'\n 'Lower Confidence Interval' 'Upper Confidence Interval'\n 'Economy (GDP per Capita)' 'Family' 'Health (Life Expectancy)' 'Freedom'\n 'Trust (Government Corruption)' 'Generosity' 'Dystopia Residual']\n2017 Headers:  ['year' 'Country' 'Happiness.Rank' 'Happiness.Score' 'Whisker.high'\n 'Whisker.low' 'Economy..GDP.per.Capita.' 'Family'\n 'Health..Life.Expectancy.' 'Freedom' 'Generosity'\n 'Trust..Government.Corruption.' 'Dystopia.Residual']\n2018 Headers:  ['year' 'Overall rank' 'Country or region' 'Score' 'GDP per capita'\n 'Social support' 'Healthy life expectancy' 'Freedom to make life choices'\n 'Generosity' 'Perceptions of corruption']\n2019 Headers:  ['year' 'Overall rank' 'Country or region' 'Score' 'GDP per capita'\n 'Social support' 'Healthy life expectancy' 'Freedom to make life choices'\n 'Generosity' 'Perceptions of corruption']\n"
     ]
    }
   ],
   "source": [
    "print(\"2015 Headers: \",data_2015.columns.values)\n",
    "print(\"2016 Headers: \",data_2016.columns.values)\n",
    "print(\"2017 Headers: \",data_2017.columns.values)\n",
    "print(\"2018 Headers: \",data_2018.columns.values)\n",
    "print(\"2019 Headers: \",data_2019.columns.values)"
   ]
  },
  {
   "cell_type": "code",
   "execution_count": null,
   "metadata": {},
   "outputs": [],
   "source": []
  }
 ]
}